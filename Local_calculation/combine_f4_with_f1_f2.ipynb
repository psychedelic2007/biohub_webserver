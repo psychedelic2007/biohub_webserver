{
 "cells": [
  {
   "cell_type": "code",
   "execution_count": 15,
   "id": "a12ecd4d",
   "metadata": {},
   "outputs": [],
   "source": [
    "import os\n",
    "import pandas as pd\n",
    "\n",
    "# Path to the folder containing the CSV files\n",
    "folder_path = r'C:\\Users\\satya\\Downloads\\Omicron\\Feb2023\\combine_f1_f3'\n",
    "\n",
    "# Path to the main CSV file (\"A\")\n",
    "main_file_path = r'C:\\Users\\satya\\Downloads\\Omicron\\Feb2023\\entropy_output\\entropy_data__.csv'\n",
    "\n",
    "# Read the main CSV file (\"A\")\n",
    "main_df = pd.read_csv(main_file_path)\n",
    "\n",
    "\n",
    "# Iterate over the files in the folder\n",
    "for filename in os.listdir(folder_path):\n",
    "    if filename.endswith('.csv'):\n",
    "        file_path = os.path.join(folder_path, filename)\n",
    "        \n",
    "        # Read each file in the folder\n",
    "        df = pd.read_csv(file_path)\n",
    "        \n",
    "        # Get the length of the second column of the current file\n",
    "        column_length = len(df.iloc[:, 1])\n",
    "        \n",
    "        # Add a new column with the values from the second column of \"A\" up to the length of the current file's column\n",
    "        df['Column C'] = main_df.iloc[:column_length, 1].values\n",
    "        \n",
    "        # Write the updated DataFrame back to the file\n",
    "        df.to_csv(file_path, index=False)\n"
   ]
  },
  {
   "cell_type": "code",
   "execution_count": null,
   "id": "4819c925",
   "metadata": {},
   "outputs": [],
   "source": []
  }
 ],
 "metadata": {
  "kernelspec": {
   "display_name": "Python 3 (ipykernel)",
   "language": "python",
   "name": "python3"
  },
  "language_info": {
   "codemirror_mode": {
    "name": "ipython",
    "version": 3
   },
   "file_extension": ".py",
   "mimetype": "text/x-python",
   "name": "python",
   "nbconvert_exporter": "python",
   "pygments_lexer": "ipython3",
   "version": "3.9.12"
  }
 },
 "nbformat": 4,
 "nbformat_minor": 5
}
