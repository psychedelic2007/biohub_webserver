{
 "cells": [
  {
   "cell_type": "code",
   "execution_count": 14,
   "id": "a6714138",
   "metadata": {},
   "outputs": [],
   "source": [
    "import os\n",
    "import pandas as pd\n",
    "\n",
    "folder1 = r\"C:\\Users\\satya\\Downloads\\Omicron\\Jan2022\\jan2022_f1\"\n",
    "folder2 = r\"C:\\Users\\satya\\Downloads\\Omicron\\Jan2022\\jan2022_f3\"\n",
    "output_folder = r\"C:\\Users\\satya\\Downloads\\Omicron\\Jan2022\\combine_f1_f3\"\n",
    "\n",
    "#Get a list of csv files in folder 1\n",
    "csv_files_folder1 = [file for file in os.listdir(folder1) if file.endswith(\".csv\")]\n",
    "\n",
    "#combine csv files\n",
    "for file in csv_files_folder1:\n",
    "    file_path_folder1 = os.path.join(folder1, file)\n",
    "    file_path_folder2 = os.path.join(folder2, file)\n",
    "    output_path = os.path.join(output_folder, file)\n",
    "    \n",
    "    #read csv file\n",
    "    df_folder1 = pd.read_csv(file_path_folder1)\n",
    "    df_folder2 = pd.read_csv(file_path_folder2)\n",
    "    \n",
    "    #combine data\n",
    "    combined_df = pd.concat([df_folder1.iloc[:, :2], df_folder2.iloc[:, 1]], axis=1)\n",
    "    \n",
    "    #save combined csv\n",
    "    combined_df.to_csv(output_path, index=False)"
   ]
  },
  {
   "cell_type": "code",
   "execution_count": null,
   "id": "f23b3213",
   "metadata": {},
   "outputs": [],
   "source": []
  }
 ],
 "metadata": {
  "kernelspec": {
   "display_name": "Python 3 (ipykernel)",
   "language": "python",
   "name": "python3"
  },
  "language_info": {
   "codemirror_mode": {
    "name": "ipython",
    "version": 3
   },
   "file_extension": ".py",
   "mimetype": "text/x-python",
   "name": "python",
   "nbconvert_exporter": "python",
   "pygments_lexer": "ipython3",
   "version": "3.9.12"
  }
 },
 "nbformat": 4,
 "nbformat_minor": 5
}
