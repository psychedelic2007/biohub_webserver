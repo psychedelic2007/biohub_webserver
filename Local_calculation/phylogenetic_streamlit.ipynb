{
 "cells": [
  {
   "cell_type": "code",
   "execution_count": 39,
   "id": "1d6d2217",
   "metadata": {},
   "outputs": [
    {
     "name": "stdout",
     "output_type": "stream",
     "text": [
      "Enter the accession id of the first sequence: UIQ81143.1\n",
      "Enter the accession id of the second sequence: UJE30794.1\n",
      "Comparison results saved to UIQ81143.1.csv\n"
     ]
    }
   ],
   "source": [
    "from Bio import SeqIO\n",
    "import csv\n",
    "\n",
    "def compare_sequences(sequence1, sequence2):\n",
    "    comparison = []\n",
    "    for i in range(len(sequence1)):\n",
    "        if sequence1[i] == sequence2[i]:\n",
    "            comparison.append(\"0\")\n",
    "        else:\n",
    "            comparison.append(\"1\")\n",
    "    return comparison\n",
    "\n",
    "# Read FASTA file\n",
    "def read_fasta_file(file_path):\n",
    "    sequences = {}\n",
    "    for record in SeqIO.parse(file_path, \"fasta\"):\n",
    "        sequences[record.id] = str(record.seq)\n",
    "    return sequences\n",
    "\n",
    "# Write comparison results to CSV file\n",
    "def write_csv_file(file_name, positions, comparison):\n",
    "    with open(file_name, 'w', newline='') as file:\n",
    "        writer = csv.writer(file)\n",
    "        writer.writerow([\"Residue Position\", \"Target\"])\n",
    "        writer.writerows(zip(positions, comparison))\n",
    "\n",
    "# Main program\n",
    "fasta_file_path = r\"C:\\Users\\satya\\Downloads\\Omicron\\Dec2021\\omicron_sequence_world_dec2021_preprocessed.fasta\"\n",
    "sequences = read_fasta_file(fasta_file_path)\n",
    "\n",
    "sequence_id1 = input(\"Enter the accession id of the first sequence: \")\n",
    "sequence_id2 = input(\"Enter the accession id of the second sequence: \")\n",
    "\n",
    "sequence1 = sequences.get(sequence_id1)\n",
    "sequence2 = sequences.get(sequence_id2)\n",
    "\n",
    "if sequence1 is not None and sequence2 is not None:\n",
    "    comparison = compare_sequences(sequence1, sequence2)\n",
    "    csv_file_name = f\"{sequence_id1}.csv\"\n",
    "    write_csv_file(csv_file_name, range(1, len(sequence1) + 1), comparison)\n",
    "    print(f\"Comparison results saved to {csv_file_name}\")\n",
    "else:\n",
    "    print(\"Invalid sequence accession ids.\")\n"
   ]
  },
  {
   "cell_type": "code",
   "execution_count": null,
   "id": "b7aa722d",
   "metadata": {},
   "outputs": [],
   "source": []
  }
 ],
 "metadata": {
  "kernelspec": {
   "display_name": "Python 3 (ipykernel)",
   "language": "python",
   "name": "python3"
  },
  "language_info": {
   "codemirror_mode": {
    "name": "ipython",
    "version": 3
   },
   "file_extension": ".py",
   "mimetype": "text/x-python",
   "name": "python",
   "nbconvert_exporter": "python",
   "pygments_lexer": "ipython3",
   "version": "3.9.12"
  }
 },
 "nbformat": 4,
 "nbformat_minor": 5
}
